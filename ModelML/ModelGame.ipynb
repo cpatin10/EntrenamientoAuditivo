{
 "cells": [
  {
   "cell_type": "code",
   "execution_count": 36,
   "metadata": {},
   "outputs": [],
   "source": [
    "import pandas as pd \n",
    "import numpy as np\n",
    "from sklearn.tree import DecisionTreeClassifier\n",
    "from sklearn.model_selection import train_test_split\n",
    "from matplotlib import pyplot as plt\n",
    "import seaborn as sns\n",
    "import graphviz\n",
    "import pydotplus\n",
    "import io\n",
    "import PIL \n",
    "from scipy import misc\n",
    "from sklearn.tree import export_graphviz\n",
    "from scipy.stats import stats\n",
    "import scipy.misc\n",
    "from scipy.ndimage import imread\n",
    "\n",
    "%matplotlib inline"
   ]
  },
  {
   "cell_type": "code",
   "execution_count": 53,
   "metadata": {},
   "outputs": [],
   "source": [
    "data = pd.read_csv('DataNew.csv')"
   ]
  },
  {
   "cell_type": "code",
   "execution_count": 54,
   "metadata": {},
   "outputs": [
    {
     "data": {
      "text/plain": [
       "pandas.core.frame.DataFrame"
      ]
     },
     "execution_count": 54,
     "metadata": {},
     "output_type": "execute_result"
    }
   ],
   "source": [
    "type(data)"
   ]
  },
  {
   "cell_type": "code",
   "execution_count": 55,
   "metadata": {},
   "outputs": [
    {
     "data": {
      "text/html": [
       "<div>\n",
       "<style scoped>\n",
       "    .dataframe tbody tr th:only-of-type {\n",
       "        vertical-align: middle;\n",
       "    }\n",
       "\n",
       "    .dataframe tbody tr th {\n",
       "        vertical-align: top;\n",
       "    }\n",
       "\n",
       "    .dataframe thead th {\n",
       "        text-align: right;\n",
       "    }\n",
       "</style>\n",
       "<table border=\"1\" class=\"dataframe\">\n",
       "  <thead>\n",
       "    <tr style=\"text-align: right;\">\n",
       "      <th></th>\n",
       "      <th>correct</th>\n",
       "      <th>playedInterval</th>\n",
       "      <th>answeredInterval</th>\n",
       "      <th>firstNote</th>\n",
       "      <th>expectedNote</th>\n",
       "      <th>inputNote</th>\n",
       "      <th>time</th>\n",
       "    </tr>\n",
       "  </thead>\n",
       "  <tbody>\n",
       "    <tr>\n",
       "      <th>count</th>\n",
       "      <td>2104.000000</td>\n",
       "      <td>2104.000000</td>\n",
       "      <td>2104.000000</td>\n",
       "      <td>2104.000000</td>\n",
       "      <td>2104.000000</td>\n",
       "      <td>2104.000000</td>\n",
       "      <td>2104.000000</td>\n",
       "    </tr>\n",
       "    <tr>\n",
       "      <th>mean</th>\n",
       "      <td>0.626426</td>\n",
       "      <td>4.643536</td>\n",
       "      <td>4.182034</td>\n",
       "      <td>21.436312</td>\n",
       "      <td>21.550856</td>\n",
       "      <td>21.219106</td>\n",
       "      <td>7.393434</td>\n",
       "    </tr>\n",
       "    <tr>\n",
       "      <th>std</th>\n",
       "      <td>0.483868</td>\n",
       "      <td>3.115517</td>\n",
       "      <td>3.160569</td>\n",
       "      <td>11.547241</td>\n",
       "      <td>11.289569</td>\n",
       "      <td>11.879767</td>\n",
       "      <td>24.473240</td>\n",
       "    </tr>\n",
       "    <tr>\n",
       "      <th>min</th>\n",
       "      <td>0.000000</td>\n",
       "      <td>1.000000</td>\n",
       "      <td>-1.000000</td>\n",
       "      <td>3.000000</td>\n",
       "      <td>3.000000</td>\n",
       "      <td>0.000000</td>\n",
       "      <td>0.083252</td>\n",
       "    </tr>\n",
       "    <tr>\n",
       "      <th>25%</th>\n",
       "      <td>0.000000</td>\n",
       "      <td>2.000000</td>\n",
       "      <td>2.000000</td>\n",
       "      <td>12.000000</td>\n",
       "      <td>12.000000</td>\n",
       "      <td>11.000000</td>\n",
       "      <td>2.083923</td>\n",
       "    </tr>\n",
       "    <tr>\n",
       "      <th>50%</th>\n",
       "      <td>1.000000</td>\n",
       "      <td>4.000000</td>\n",
       "      <td>4.000000</td>\n",
       "      <td>21.000000</td>\n",
       "      <td>22.000000</td>\n",
       "      <td>21.000000</td>\n",
       "      <td>4.199684</td>\n",
       "    </tr>\n",
       "    <tr>\n",
       "      <th>75%</th>\n",
       "      <td>1.000000</td>\n",
       "      <td>7.000000</td>\n",
       "      <td>6.000000</td>\n",
       "      <td>32.000000</td>\n",
       "      <td>32.000000</td>\n",
       "      <td>32.000000</td>\n",
       "      <td>8.558670</td>\n",
       "    </tr>\n",
       "    <tr>\n",
       "      <th>max</th>\n",
       "      <td>1.000000</td>\n",
       "      <td>11.000000</td>\n",
       "      <td>11.000000</td>\n",
       "      <td>41.000000</td>\n",
       "      <td>41.000000</td>\n",
       "      <td>41.000000</td>\n",
       "      <td>1080.473999</td>\n",
       "    </tr>\n",
       "  </tbody>\n",
       "</table>\n",
       "</div>"
      ],
      "text/plain": [
       "           correct  playedInterval  answeredInterval    firstNote  \\\n",
       "count  2104.000000     2104.000000       2104.000000  2104.000000   \n",
       "mean      0.626426        4.643536          4.182034    21.436312   \n",
       "std       0.483868        3.115517          3.160569    11.547241   \n",
       "min       0.000000        1.000000         -1.000000     3.000000   \n",
       "25%       0.000000        2.000000          2.000000    12.000000   \n",
       "50%       1.000000        4.000000          4.000000    21.000000   \n",
       "75%       1.000000        7.000000          6.000000    32.000000   \n",
       "max       1.000000       11.000000         11.000000    41.000000   \n",
       "\n",
       "       expectedNote    inputNote         time  \n",
       "count   2104.000000  2104.000000  2104.000000  \n",
       "mean      21.550856    21.219106     7.393434  \n",
       "std       11.289569    11.879767    24.473240  \n",
       "min        3.000000     0.000000     0.083252  \n",
       "25%       12.000000    11.000000     2.083923  \n",
       "50%       22.000000    21.000000     4.199684  \n",
       "75%       32.000000    32.000000     8.558670  \n",
       "max       41.000000    41.000000  1080.473999  "
      ]
     },
     "execution_count": 55,
     "metadata": {},
     "output_type": "execute_result"
    }
   ],
   "source": [
    "data.describe()"
   ]
  },
  {
   "cell_type": "code",
   "execution_count": 56,
   "metadata": {},
   "outputs": [
    {
     "data": {
      "text/html": [
       "<div>\n",
       "<style scoped>\n",
       "    .dataframe tbody tr th:only-of-type {\n",
       "        vertical-align: middle;\n",
       "    }\n",
       "\n",
       "    .dataframe tbody tr th {\n",
       "        vertical-align: top;\n",
       "    }\n",
       "\n",
       "    .dataframe thead th {\n",
       "        text-align: right;\n",
       "    }\n",
       "</style>\n",
       "<table border=\"1\" class=\"dataframe\">\n",
       "  <thead>\n",
       "    <tr style=\"text-align: right;\">\n",
       "      <th></th>\n",
       "      <th>correct</th>\n",
       "      <th>playedInterval</th>\n",
       "      <th>answeredInterval</th>\n",
       "      <th>firstNote</th>\n",
       "      <th>expectedNote</th>\n",
       "      <th>inputNote</th>\n",
       "      <th>time</th>\n",
       "    </tr>\n",
       "  </thead>\n",
       "  <tbody>\n",
       "    <tr>\n",
       "      <th>0</th>\n",
       "      <td>0</td>\n",
       "      <td>1</td>\n",
       "      <td>2</td>\n",
       "      <td>3</td>\n",
       "      <td>9</td>\n",
       "      <td>17</td>\n",
       "      <td>7.798172</td>\n",
       "    </tr>\n",
       "    <tr>\n",
       "      <th>1</th>\n",
       "      <td>0</td>\n",
       "      <td>2</td>\n",
       "      <td>1</td>\n",
       "      <td>4</td>\n",
       "      <td>15</td>\n",
       "      <td>18</td>\n",
       "      <td>4.357033</td>\n",
       "    </tr>\n",
       "    <tr>\n",
       "      <th>2</th>\n",
       "      <td>0</td>\n",
       "      <td>2</td>\n",
       "      <td>2</td>\n",
       "      <td>4</td>\n",
       "      <td>16</td>\n",
       "      <td>19</td>\n",
       "      <td>12.062160</td>\n",
       "    </tr>\n",
       "    <tr>\n",
       "      <th>3</th>\n",
       "      <td>1</td>\n",
       "      <td>2</td>\n",
       "      <td>2</td>\n",
       "      <td>5</td>\n",
       "      <td>9</td>\n",
       "      <td>9</td>\n",
       "      <td>1.756146</td>\n",
       "    </tr>\n",
       "    <tr>\n",
       "      <th>4</th>\n",
       "      <td>0</td>\n",
       "      <td>1</td>\n",
       "      <td>1</td>\n",
       "      <td>6</td>\n",
       "      <td>4</td>\n",
       "      <td>19</td>\n",
       "      <td>4.740744</td>\n",
       "    </tr>\n",
       "  </tbody>\n",
       "</table>\n",
       "</div>"
      ],
      "text/plain": [
       "   correct  playedInterval  answeredInterval  firstNote  expectedNote  \\\n",
       "0        0               1                 2          3             9   \n",
       "1        0               2                 1          4            15   \n",
       "2        0               2                 2          4            16   \n",
       "3        1               2                 2          5             9   \n",
       "4        0               1                 1          6             4   \n",
       "\n",
       "   inputNote       time  \n",
       "0         17   7.798172  \n",
       "1         18   4.357033  \n",
       "2         19  12.062160  \n",
       "3          9   1.756146  \n",
       "4         19   4.740744  "
      ]
     },
     "execution_count": 56,
     "metadata": {},
     "output_type": "execute_result"
    }
   ],
   "source": [
    "data.head()"
   ]
  },
  {
   "cell_type": "code",
   "execution_count": 61,
   "metadata": {},
   "outputs": [
    {
     "data": {
      "text/plain": [
       "<bound method DataFrame.info of       correct  playedInterval  answeredInterval  firstNote  expectedNote  \\\n",
       "0           0               1                 2          3             9   \n",
       "1           0               2                 1          4            15   \n",
       "2           0               2                 2          4            16   \n",
       "3           1               2                 2          5             9   \n",
       "4           0               1                 1          6             4   \n",
       "5           0               1                 2          7            20   \n",
       "6           0               1                 2          8            22   \n",
       "7           0               1                 2          9            14   \n",
       "8           0               2                 1         10            18   \n",
       "9           0               2                -1         10            18   \n",
       "10          0               1                 1         11            24   \n",
       "11          1               1                 1         12            25   \n",
       "12          0               1                 2          9            14   \n",
       "13          0               1                 1         13            27   \n",
       "14          0               2                 3         14            28   \n",
       "15          0               1                 2          5            14   \n",
       "16          1               1                 1         15            29   \n",
       "17          0               2                 1         15            30   \n",
       "18          0               1                -1          3             9   \n",
       "19          0               1                 2         10             7   \n",
       "20          0               1                -1         10             7   \n",
       "21          0               1                 2         13            11   \n",
       "22          0               1                 2         19            12   \n",
       "23          0               1                 2          9             3   \n",
       "24          0               1                 1         31            32   \n",
       "25          0               8                10         17            33   \n",
       "26          1               7                 7          6            11   \n",
       "27          0              10                11         31            34   \n",
       "28          0               7                 6         35            34   \n",
       "29          1               9                 9          9            37   \n",
       "...       ...             ...               ...        ...           ...   \n",
       "2074        1               9                 9         17            31   \n",
       "2075        1               1                 1         36            27   \n",
       "2076        1               1                 1          3            26   \n",
       "2077        1               4                 4         19            30   \n",
       "2078        1               8                 8          9            23   \n",
       "2079        1               6                 6         25             4   \n",
       "2080        1               7                 7          3            31   \n",
       "2081        1               3                 3         23            33   \n",
       "2082        1               2                 2          4            19   \n",
       "2083        1               4                 4         40             9   \n",
       "2084        1               5                 5         39            25   \n",
       "2085        1               6                 6         17            28   \n",
       "2086        1               6                 6         31             9   \n",
       "2087        1               8                 8         13            12   \n",
       "2088        1               5                 5         14            31   \n",
       "2089        1               9                 9          3            23   \n",
       "2090        1               9                 9         22            15   \n",
       "2091        1               5                 5         29            25   \n",
       "2092        1               5                 5          7            37   \n",
       "2093        1               3                 3         25             6   \n",
       "2094        1               1                 1         16            39   \n",
       "2095        1               4                 4         14            33   \n",
       "2096        1               7                 7         37            34   \n",
       "2097        1               4                 4         28            32   \n",
       "2098        1               5                 5         28            26   \n",
       "2099        1               6                 6         34             8   \n",
       "2100        1               8                 8         35            36   \n",
       "2101        1               4                 4         36            24   \n",
       "2102        1               8                 8          6            24   \n",
       "2103        1               8                 8         21            15   \n",
       "\n",
       "      inputNote       time  \n",
       "0            17   7.798172  \n",
       "1            18   4.357033  \n",
       "2            19  12.062160  \n",
       "3             9   1.756146  \n",
       "4            19   4.740744  \n",
       "5            21   1.954710  \n",
       "6            23   7.346216  \n",
       "7            26   7.140041  \n",
       "8             7  28.459949  \n",
       "9             0  30.000000  \n",
       "10           13   5.931168  \n",
       "11           25   5.185364  \n",
       "12           26   2.352463  \n",
       "13           11   8.796814  \n",
       "14           26  13.158783  \n",
       "15            9   9.757217  \n",
       "16           29   1.209381  \n",
       "17           29   5.582870  \n",
       "18            3  10.114700  \n",
       "19           20  29.260162  \n",
       "20            0  30.000000  \n",
       "21           36   5.543488  \n",
       "22           25  11.037186  \n",
       "23           26   1.673218  \n",
       "24           33   6.295334  \n",
       "25           32  20.881325  \n",
       "26           11   6.522518  \n",
       "27           18  24.576321  \n",
       "28           18   3.081635  \n",
       "29           37   8.879341  \n",
       "...         ...        ...  \n",
       "2074         31   5.316650  \n",
       "2075         27   2.333984  \n",
       "2076         26   2.100830  \n",
       "2077         30   3.367432  \n",
       "2078         23   4.982910  \n",
       "2079          4   4.566650  \n",
       "2080         31   4.666748  \n",
       "2081         33   6.633057  \n",
       "2082         19   2.416260  \n",
       "2083          9   2.982910  \n",
       "2084         25   5.866211  \n",
       "2085         28   5.116211  \n",
       "2086          9   7.016113  \n",
       "2087         12   5.483154  \n",
       "2088         31   5.999756  \n",
       "2089         23   8.683350  \n",
       "2090         15   3.634033  \n",
       "2091         25   2.650635  \n",
       "2092         37   6.050049  \n",
       "2093          6   5.883057  \n",
       "2094         39   2.049561  \n",
       "2095         33   2.632812  \n",
       "2096         34   4.066895  \n",
       "2097         32   3.483398  \n",
       "2098         26   6.000000  \n",
       "2099          8   3.833984  \n",
       "2100         36   4.200195  \n",
       "2101         24   4.316406  \n",
       "2102         24   4.817383  \n",
       "2103         15   3.866943  \n",
       "\n",
       "[2104 rows x 7 columns]>"
      ]
     },
     "execution_count": 61,
     "metadata": {},
     "output_type": "execute_result"
    }
   ],
   "source": [
    "data.info"
   ]
  },
  {
   "cell_type": "code",
   "execution_count": 57,
   "metadata": {},
   "outputs": [],
   "source": [
    "train, test = train_test_split(data, test_size = 0.15)"
   ]
  },
  {
   "cell_type": "code",
   "execution_count": 58,
   "metadata": {},
   "outputs": [
    {
     "name": "stdout",
     "output_type": "stream",
     "text": [
      "Training size: 1788; test_size: 316\n"
     ]
    }
   ],
   "source": [
    "print(\"Training size: {}; test_size: {}\". format(len(train), len(test)))"
   ]
  },
  {
   "cell_type": "code",
   "execution_count": 59,
   "metadata": {},
   "outputs": [
    {
     "data": {
      "text/plain": [
       "(1788, 7)"
      ]
     },
     "execution_count": 59,
     "metadata": {},
     "output_type": "execute_result"
    }
   ],
   "source": [
    "train.shape"
   ]
  },
  {
   "cell_type": "code",
   "execution_count": 60,
   "metadata": {},
   "outputs": [
    {
     "data": {
      "text/plain": [
       "<matplotlib.legend.Legend at 0x23a3bd11ba8>"
      ]
     },
     "execution_count": 60,
     "metadata": {},
     "output_type": "execute_result"
    },
    {
     "data": {
      "image/png": "[encoded data removed]",
      "text/plain": [
       "<matplotlib.figure.Figure at 0x23a3a00d208>"
      ]
     },
     "metadata": {},
     "output_type": "display_data"
    }
   ],
   "source": [
    "pos_temp = data[data['correct'] == 1]['correct']\n",
    "neg_temp = data[data['correct'] == 0]['correct']\n",
    "\n",
    "fig = plt.figure(figsize=(12, 8))\n",
    "plt.title(\"Respuestas correctas / Incorrectas\")\n",
    "pos_temp.hist(alpha = 0.7, bins = 10, label = 'Correctas')\n",
    "neg_temp.hist(alpha = 0.7, bins = 10, label = 'Incorrectas')\n",
    "plt.legend(loc = \"upper right\")"
   ]
  },
  {
   "cell_type": "code",
   "execution_count": 45,
   "metadata": {},
   "outputs": [
    {
     "data": {
      "text/plain": [
       "<matplotlib.legend.Legend at 0x23a3a0895c0>"
      ]
     },
     "execution_count": 45,
     "metadata": {},
     "output_type": "execute_result"
    },
    {
     "data": {
      "text/plain": [
       "<matplotlib.figure.Figure at 0x23a3ba521d0>"
      ]
     },
     "metadata": {},
     "output_type": "display_data"
    },
    {
     "data": {
      "image/png": "[encoded data removed]",
      "text/plain": [
       "<matplotlib.figure.Figure at 0x23a3ba50390>"
      ]
     },
     "metadata": {},
     "output_type": "display_data"
    },
    {
     "data": {
      "image/png": "[encoded data removed]",
      "text/plain": [
       "<matplotlib.figure.Figure at 0x23a3a130198>"
      ]
     },
     "metadata": {},
     "output_type": "display_data"
    }
   ],
   "source": [
    "pos_temp = data[data['correct'] == 1]\n",
    "neg_temp = data[data['correct'] == 0]\n",
    "\n",
    "fig = plt.figure(figsize=(12, 8))\n",
    "pos_temp.hist(alpha = 0.7, bins = 10, label = 'Correctas')\n",
    "neg_temp.hist(alpha = 0.7, bins = 10, label = 'Incorrectas')\n",
    "plt.legend(loc = \"upper right\")"
   ]
  },
  {
   "cell_type": "code",
   "execution_count": 46,
   "metadata": {},
   "outputs": [],
   "source": [
    "c = DecisionTreeClassifier(min_samples_split = 100)"
   ]
  },
  {
   "cell_type": "code",
   "execution_count": 47,
   "metadata": {},
   "outputs": [],
   "source": [
    "features = [\"correct\", \"playedInterval\", \"answeredInterval\", \"firstNote\", \"expectedNote\", \"inputNote\", \"time\"]"
   ]
  },
  {
   "cell_type": "code",
   "execution_count": 48,
   "metadata": {},
   "outputs": [],
   "source": [
    "x_train = train[features]\n",
    "y_train = train[\"correct\"]\n",
    "\n",
    "x_test = train[features]\n",
    "y_test = train[\"correct\"]"
   ]
  },
  {
   "cell_type": "code",
   "execution_count": 49,
   "metadata": {},
   "outputs": [
    {
     "data": {
      "text/plain": [
       "468     1\n",
       "1899    0\n",
       "1920    1\n",
       "345     0\n",
       "1358    0\n",
       "833     0\n",
       "177     1\n",
       "1118    1\n",
       "276     0\n",
       "1898    0\n",
       "767     0\n",
       "459     1\n",
       "1183    0\n",
       "2002    1\n",
       "1632    1\n",
       "649     1\n",
       "1171    1\n",
       "1041    1\n",
       "1799    1\n",
       "297     0\n",
       "1111    1\n",
       "511     0\n",
       "1739    1\n",
       "846     0\n",
       "953     0\n",
       "1644    0\n",
       "1684    1\n",
       "152     0\n",
       "1856    1\n",
       "1633    0\n",
       "       ..\n",
       "1679    1\n",
       "964     0\n",
       "1997    1\n",
       "1198    1\n",
       "1712    1\n",
       "712     0\n",
       "586     1\n",
       "1195    1\n",
       "362     1\n",
       "578     1\n",
       "366     1\n",
       "763     1\n",
       "1025    1\n",
       "805     1\n",
       "166     0\n",
       "124     1\n",
       "1543    1\n",
       "762     0\n",
       "1791    1\n",
       "373     1\n",
       "146     0\n",
       "1460    0\n",
       "1092    1\n",
       "1550    1\n",
       "660     1\n",
       "752     1\n",
       "657     1\n",
       "901     0\n",
       "1034    1\n",
       "387     1\n",
       "Name: correct, Length: 1788, dtype: int64"
      ]
     },
     "execution_count": 49,
     "metadata": {},
     "output_type": "execute_result"
    }
   ],
   "source": [
    "y_test"
   ]
  },
  {
   "cell_type": "code",
   "execution_count": 50,
   "metadata": {},
   "outputs": [
    {
     "name": "stdout",
     "output_type": "stream",
     "text": [
      "      correct  playedInterval  answeredInterval  firstNote  expectedNote  \\\n",
      "468         1               2                 2         20            10   \n",
      "1899        0               2                 1          7            34   \n",
      "1920        1               4                 4          4             7   \n",
      "345         0               3                 2         40            32   \n",
      "1358        0               2                 3         10            20   \n",
      "833         0               1                 2         25            35   \n",
      "177         1               4                 4         40            23   \n",
      "1118        1               9                 9         30            36   \n",
      "276         0               6                 8         33             3   \n",
      "1898        0               6                 5         33            22   \n",
      "767         0               2                 1         28            14   \n",
      "459         1               7                 7          6            15   \n",
      "1183        0               6                 5         31            21   \n",
      "2002        1               2                 2         35            38   \n",
      "1632        1               5                 5         34            22   \n",
      "649         1               1                 1          3            26   \n",
      "1171        1               7                 7         26            33   \n",
      "1041        1               5                 5         22            34   \n",
      "1799        1               1                 1          4             6   \n",
      "297         0               7                 8         34            37   \n",
      "1111        1               5                 5         18            21   \n",
      "511         0              11                 9         32             4   \n",
      "1739        1               2                 2         28            33   \n",
      "846         0               5                 7         20            23   \n",
      "953         0               9                11         11            12   \n",
      "1644        0               4                -1         18            20   \n",
      "1684        1               3                 3         31            28   \n",
      "152         0               6                 4          4            25   \n",
      "1856        1               2                 2         35            38   \n",
      "1633        0               4                 3          4            30   \n",
      "...       ...             ...               ...        ...           ...   \n",
      "1679        1               7                 7         27            12   \n",
      "964         0              11                 9         20            25   \n",
      "1997        1               6                 6         11             4   \n",
      "1198        1              11                11          7            12   \n",
      "1712        1               7                 7         37            34   \n",
      "712         0               2                 1         12            35   \n",
      "586         1               2                 2          6            39   \n",
      "1195        1               2                 2          8            21   \n",
      "362         1               2                 2          3            14   \n",
      "578         1               4                 4         39            13   \n",
      "366         1               5                 5          4            20   \n",
      "763         1               1                 1          8            37   \n",
      "1025        1               5                 5         15            12   \n",
      "805         1               2                 2         37            32   \n",
      "166         0               7                 6          8            28   \n",
      "124         1               8                 8         19            11   \n",
      "1543        1               2                 2         41            11   \n",
      "762         0               1                 1         10            34   \n",
      "1791        1               1                 1         36            16   \n",
      "373         1               8                 8         32            10   \n",
      "146         0               4                 3         23            40   \n",
      "1460        0               2                 1         35            12   \n",
      "1092        1               5                 5         16            24   \n",
      "1550        1               2                 2         33            32   \n",
      "660         1               1                 1         24            11   \n",
      "752         1               1                 1         33            31   \n",
      "657         1               1                 1          9            14   \n",
      "901         0               4                 3         35             6   \n",
      "1034        1              10                10         38            36   \n",
      "387         1              11                11         38             8   \n",
      "\n",
      "      inputNote               time  \n",
      "468          10     3.117431640625  \n",
      "1899         10    3.0494384765625  \n",
      "1920          7    5.2000732421875  \n",
      "345          31     4.446044921875  \n",
      "1358         21      0.93408203125  \n",
      "833          30      2.10009765625  \n",
      "177          23  13.13388061523438  \n",
      "1118         36      8.71728515625  \n",
      "276          17        5.048828125  \n",
      "1898          8    5.2672119140625  \n",
      "767           5    2.0665283203125  \n",
      "459          15  6.632781982421875  \n",
      "1183         22   4.83331298828125  \n",
      "2002         38       2.3837890625  \n",
      "1632         22      2.74951171875  \n",
      "649          26  2.200103759765625  \n",
      "1171         33   10.2664794921875  \n",
      "1041         34     4.115966796875  \n",
      "1799          6          2.1328125  \n",
      "297          23  4.783233642578125  \n",
      "1111         21     2.999267578125  \n",
      "511          34   17.5496826171875  \n",
      "1739         33    4.1993408203125  \n",
      "846          31  2.384208679199219  \n",
      "953          35   12.6998291015625  \n",
      "1644          0                 30  \n",
      "1684         28      9.89990234375  \n",
      "152          30  14.66799926757812  \n",
      "1856         38   2.16729736328125  \n",
      "1633         38    28.465576171875  \n",
      "...         ...                ...  \n",
      "1679         12     3.349853515625  \n",
      "964          30        13.31640625  \n",
      "1997          4      2.14990234375  \n",
      "1198         12   8.33416748046875  \n",
      "1712         34     10.69970703125  \n",
      "712          25   1.61749267578125  \n",
      "586          39     6.016357421875  \n",
      "1195         21     10.61669921875  \n",
      "362          14   6.07867431640625  \n",
      "578          13     2.500732421875  \n",
      "366          20     16.98486328125  \n",
      "763          37   1.75323486328125  \n",
      "1025         12        4.400390625  \n",
      "805          32        9.533203125  \n",
      "166          40  15.51628112792969  \n",
      "124          11  14.42879486083984  \n",
      "1543         11    0.9495849609375  \n",
      "762           7   1.05059814453125  \n",
      "1791         16  1.516265869140625  \n",
      "373          10   4.31402587890625  \n",
      "146          33  4.964019775390625  \n",
      "1460         25     1.149658203125  \n",
      "1092         24         4.06640625  \n",
      "1550         32   1.23394775390625  \n",
      "660          11     1.561279296875  \n",
      "752          31    1.7501220703125  \n",
      "657          14  1.400115966796875  \n",
      "901          19   5.73248291015625  \n",
      "1034         36     6.983154296875  \n",
      "387           8    2.4986572265625  \n",
      "\n",
      "[1788 rows x 7 columns]\n"
     ]
    }
   ],
   "source": [
    "dt = c.fit(x_train, y_train)"
   ]
  },
  {
   "cell_type": "code",
   "execution_count": 51,
   "metadata": {},
   "outputs": [],
   "source": [
    "import imageio\n",
    "def show_tree(tree, features, path):\n",
    "    f = io.StringIO()\n",
    "    export_graphviz(tree, out_file = f, feature_names = features)\n",
    "    pydotplus.graph_from_dot_data(f.getvalue()).write_png(path)\n",
    "    img = imageio.imread(path)\n",
    "    plt.rcParams[\"figure.figsize\"] = (20, 20)\n",
    "    plt.imshow(img)"
   ]
  },
  {
   "cell_type": "code",
   "execution_count": 52,
   "metadata": {},
   "outputs": [
    {
     "ename": "RuntimeError",
     "evalue": "Imageio Pillow plugin requires Pillow lib.",
     "traceback": [
      "\u001b[1;31m---------------------------------------------------------------------------\u001b[0m",
      "\u001b[1;31mRuntimeError\u001b[0m                              Traceback (most recent call last)",
      "\u001b[1;32m<ipython-input-52-12daf54d5240>\u001b[0m in \u001b[0;36m<module>\u001b[1;34m()\u001b[0m\n\u001b[0;32m      3\u001b[0m \u001b[0mos\u001b[0m\u001b[1;33m.\u001b[0m\u001b[0menviron\u001b[0m\u001b[1;33m[\u001b[0m\u001b[1;34m\"PATH\"\u001b[0m\u001b[1;33m]\u001b[0m \u001b[1;33m+=\u001b[0m \u001b[0mos\u001b[0m\u001b[1;33m.\u001b[0m\u001b[0mpathsep\u001b[0m \u001b[1;33m+\u001b[0m \u001b[1;34m'C:/Program Files (x86)/Graphviz2.38/bin/'\u001b[0m\u001b[1;33m\u001b[0m\u001b[0m\n\u001b[0;32m      4\u001b[0m \u001b[1;33m\u001b[0m\u001b[0m\n\u001b[1;32m----> 5\u001b[1;33m \u001b[0mshow_tree\u001b[0m\u001b[1;33m(\u001b[0m\u001b[0mdt\u001b[0m\u001b[1;33m,\u001b[0m \u001b[0mfeatures\u001b[0m\u001b[1;33m,\u001b[0m \u001b[1;34m'dec_tree_01.png'\u001b[0m\u001b[1;33m)\u001b[0m\u001b[1;33m\u001b[0m\u001b[0m\n\u001b[0m",
      "\u001b[1;32m<ipython-input-51-336f607a60bc>\u001b[0m in \u001b[0;36mshow_tree\u001b[1;34m(tree, features, path)\u001b[0m\n\u001b[0;32m      4\u001b[0m     \u001b[0mexport_graphviz\u001b[0m\u001b[1;33m(\u001b[0m\u001b[0mtree\u001b[0m\u001b[1;33m,\u001b[0m \u001b[0mout_file\u001b[0m \u001b[1;33m=\u001b[0m \u001b[0mf\u001b[0m\u001b[1;33m,\u001b[0m \u001b[0mfeature_names\u001b[0m \u001b[1;33m=\u001b[0m \u001b[0mfeatures\u001b[0m\u001b[1;33m)\u001b[0m\u001b[1;33m\u001b[0m\u001b[0m\n\u001b[0;32m      5\u001b[0m     \u001b[0mpydotplus\u001b[0m\u001b[1;33m.\u001b[0m\u001b[0mgraph_from_dot_data\u001b[0m\u001b[1;33m(\u001b[0m\u001b[0mf\u001b[0m\u001b[1;33m.\u001b[0m\u001b[0mgetvalue\u001b[0m\u001b[1;33m(\u001b[0m\u001b[1;33m)\u001b[0m\u001b[1;33m)\u001b[0m\u001b[1;33m.\u001b[0m\u001b[0mwrite_png\u001b[0m\u001b[1;33m(\u001b[0m\u001b[0mpath\u001b[0m\u001b[1;33m)\u001b[0m\u001b[1;33m\u001b[0m\u001b[0m\n\u001b[1;32m----> 6\u001b[1;33m     \u001b[0mimg\u001b[0m \u001b[1;33m=\u001b[0m \u001b[0mimageio\u001b[0m\u001b[1;33m.\u001b[0m\u001b[0mimread\u001b[0m\u001b[1;33m(\u001b[0m\u001b[0mpath\u001b[0m\u001b[1;33m)\u001b[0m\u001b[1;33m\u001b[0m\u001b[0m\n\u001b[0m\u001b[0;32m      7\u001b[0m     \u001b[0mplt\u001b[0m\u001b[1;33m.\u001b[0m\u001b[0mrcParams\u001b[0m\u001b[1;33m[\u001b[0m\u001b[1;34m\"figure.figsize\"\u001b[0m\u001b[1;33m]\u001b[0m \u001b[1;33m=\u001b[0m \u001b[1;33m(\u001b[0m\u001b[1;36m20\u001b[0m\u001b[1;33m,\u001b[0m \u001b[1;36m20\u001b[0m\u001b[1;33m)\u001b[0m\u001b[1;33m\u001b[0m\u001b[0m\n\u001b[0;32m      8\u001b[0m     \u001b[0mplt\u001b[0m\u001b[1;33m.\u001b[0m\u001b[0mimshow\u001b[0m\u001b[1;33m(\u001b[0m\u001b[0mimg\u001b[0m\u001b[1;33m)\u001b[0m\u001b[1;33m\u001b[0m\u001b[0m\n",
      "\u001b[1;32m~\\Anaconda3\\lib\\site-packages\\imageio\\core\\functions.py\u001b[0m in \u001b[0;36mimread\u001b[1;34m(uri, format, **kwargs)\u001b[0m\n\u001b[0;32m    204\u001b[0m \u001b[1;33m\u001b[0m\u001b[0m\n\u001b[0;32m    205\u001b[0m     \u001b[1;31m# Get reader and read first\u001b[0m\u001b[1;33m\u001b[0m\u001b[1;33m\u001b[0m\u001b[0m\n\u001b[1;32m--> 206\u001b[1;33m     \u001b[0mreader\u001b[0m \u001b[1;33m=\u001b[0m \u001b[0mread\u001b[0m\u001b[1;33m(\u001b[0m\u001b[0muri\u001b[0m\u001b[1;33m,\u001b[0m \u001b[0mformat\u001b[0m\u001b[1;33m,\u001b[0m \u001b[1;34m'i'\u001b[0m\u001b[1;33m,\u001b[0m \u001b[1;33m**\u001b[0m\u001b[0mkwargs\u001b[0m\u001b[1;33m)\u001b[0m\u001b[1;33m\u001b[0m\u001b[0m\n\u001b[0m\u001b[0;32m    207\u001b[0m     \u001b[1;32mwith\u001b[0m \u001b[0mreader\u001b[0m\u001b[1;33m:\u001b[0m\u001b[1;33m\u001b[0m\u001b[0m\n\u001b[0;32m    208\u001b[0m         \u001b[1;32mreturn\u001b[0m \u001b[0mreader\u001b[0m\u001b[1;33m.\u001b[0m\u001b[0mget_data\u001b[0m\u001b[1;33m(\u001b[0m\u001b[1;36m0\u001b[0m\u001b[1;33m)\u001b[0m\u001b[1;33m\u001b[0m\u001b[0m\n",
      "\u001b[1;32m~\\Anaconda3\\lib\\site-packages\\imageio\\core\\functions.py\u001b[0m in \u001b[0;36mget_reader\u001b[1;34m(uri, format, mode, **kwargs)\u001b[0m\n\u001b[0;32m    121\u001b[0m         \u001b[0mformat\u001b[0m \u001b[1;33m=\u001b[0m \u001b[0mformats\u001b[0m\u001b[1;33m[\u001b[0m\u001b[0mformat\u001b[0m\u001b[1;33m]\u001b[0m\u001b[1;33m\u001b[0m\u001b[0m\n\u001b[0;32m    122\u001b[0m     \u001b[1;32melse\u001b[0m\u001b[1;33m:\u001b[0m\u001b[1;33m\u001b[0m\u001b[0m\n\u001b[1;32m--> 123\u001b[1;33m         \u001b[0mformat\u001b[0m \u001b[1;33m=\u001b[0m \u001b[0mformats\u001b[0m\u001b[1;33m.\u001b[0m\u001b[0msearch_read_format\u001b[0m\u001b[1;33m(\u001b[0m\u001b[0mrequest\u001b[0m\u001b[1;33m)\u001b[0m\u001b[1;33m\u001b[0m\u001b[0m\n\u001b[0m\u001b[0;32m    124\u001b[0m     \u001b[1;32mif\u001b[0m \u001b[0mformat\u001b[0m \u001b[1;32mis\u001b[0m \u001b[1;32mNone\u001b[0m\u001b[1;33m:\u001b[0m\u001b[1;33m\u001b[0m\u001b[0m\n\u001b[0;32m    125\u001b[0m         raise ValueError('Could not find a format to read the specified file '\n",
      "\u001b[1;32m~\\Anaconda3\\lib\\site-packages\\imageio\\core\\format.py\u001b[0m in \u001b[0;36msearch_read_format\u001b[1;34m(self, request)\u001b[0m\n\u001b[0;32m    671\u001b[0m         \u001b[1;31m# Select the first that can\u001b[0m\u001b[1;33m\u001b[0m\u001b[1;33m\u001b[0m\u001b[0m\n\u001b[0;32m    672\u001b[0m         \u001b[1;32mfor\u001b[0m \u001b[0mformat\u001b[0m \u001b[1;32min\u001b[0m \u001b[0mselected_formats\u001b[0m\u001b[1;33m:\u001b[0m\u001b[1;33m\u001b[0m\u001b[0m\n\u001b[1;32m--> 673\u001b[1;33m             \u001b[1;32mif\u001b[0m \u001b[0mformat\u001b[0m\u001b[1;33m.\u001b[0m\u001b[0mcan_read\u001b[0m\u001b[1;33m(\u001b[0m\u001b[0mrequest\u001b[0m\u001b[1;33m)\u001b[0m\u001b[1;33m:\u001b[0m\u001b[1;33m\u001b[0m\u001b[0m\n\u001b[0m\u001b[0;32m    674\u001b[0m                 \u001b[1;32mreturn\u001b[0m \u001b[0mformat\u001b[0m\u001b[1;33m\u001b[0m\u001b[0m\n\u001b[0;32m    675\u001b[0m \u001b[1;33m\u001b[0m\u001b[0m\n",
      "\u001b[1;32m~\\Anaconda3\\lib\\site-packages\\imageio\\core\\format.py\u001b[0m in \u001b[0;36mcan_read\u001b[1;34m(self, request)\u001b[0m\n\u001b[0;32m    186\u001b[0m         \u001b[0mGet\u001b[0m \u001b[0mwhether\u001b[0m \u001b[0mthis\u001b[0m \u001b[0mformat\u001b[0m \u001b[0mcan\u001b[0m \u001b[0mread\u001b[0m \u001b[0mdata\u001b[0m \u001b[1;32mfrom\u001b[0m \u001b[0mthe\u001b[0m \u001b[0mspecified\u001b[0m \u001b[0muri\u001b[0m\u001b[1;33m.\u001b[0m\u001b[1;33m\u001b[0m\u001b[0m\n\u001b[0;32m    187\u001b[0m         \"\"\"\n\u001b[1;32m--> 188\u001b[1;33m         \u001b[1;32mreturn\u001b[0m \u001b[0mself\u001b[0m\u001b[1;33m.\u001b[0m\u001b[0m_can_read\u001b[0m\u001b[1;33m(\u001b[0m\u001b[0mrequest\u001b[0m\u001b[1;33m)\u001b[0m\u001b[1;33m\u001b[0m\u001b[0m\n\u001b[0m\u001b[0;32m    189\u001b[0m \u001b[1;33m\u001b[0m\u001b[0m\n\u001b[0;32m    190\u001b[0m     \u001b[1;32mdef\u001b[0m \u001b[0mcan_write\u001b[0m\u001b[1;33m(\u001b[0m\u001b[0mself\u001b[0m\u001b[1;33m,\u001b[0m \u001b[0mrequest\u001b[0m\u001b[1;33m)\u001b[0m\u001b[1;33m:\u001b[0m\u001b[1;33m\u001b[0m\u001b[0m\n",
      "\u001b[1;32m~\\Anaconda3\\lib\\site-packages\\imageio\\plugins\\pillow.py\u001b[0m in \u001b[0;36m_can_read\u001b[1;34m(self, request)\u001b[0m\n\u001b[0;32m     95\u001b[0m \u001b[1;33m\u001b[0m\u001b[0m\n\u001b[0;32m     96\u001b[0m     \u001b[1;32mdef\u001b[0m \u001b[0m_can_read\u001b[0m\u001b[1;33m(\u001b[0m\u001b[0mself\u001b[0m\u001b[1;33m,\u001b[0m \u001b[0mrequest\u001b[0m\u001b[1;33m)\u001b[0m\u001b[1;33m:\u001b[0m\u001b[1;33m\u001b[0m\u001b[0m\n\u001b[1;32m---> 97\u001b[1;33m         \u001b[0mImage\u001b[0m \u001b[1;33m=\u001b[0m \u001b[0mself\u001b[0m\u001b[1;33m.\u001b[0m\u001b[0m_init_pillow\u001b[0m\u001b[1;33m(\u001b[0m\u001b[1;33m)\u001b[0m\u001b[1;33m\u001b[0m\u001b[0m\n\u001b[0m\u001b[0;32m     98\u001b[0m         \u001b[1;32mif\u001b[0m \u001b[0mrequest\u001b[0m\u001b[1;33m.\u001b[0m\u001b[0mmode\u001b[0m\u001b[1;33m[\u001b[0m\u001b[1;36m1\u001b[0m\u001b[1;33m]\u001b[0m \u001b[1;32min\u001b[0m \u001b[1;33m(\u001b[0m\u001b[0mself\u001b[0m\u001b[1;33m.\u001b[0m\u001b[0mmodes\u001b[0m \u001b[1;33m+\u001b[0m \u001b[1;34m'?'\u001b[0m\u001b[1;33m)\u001b[0m\u001b[1;33m:\u001b[0m\u001b[1;33m\u001b[0m\u001b[0m\n\u001b[0;32m     99\u001b[0m             \u001b[1;32mif\u001b[0m \u001b[0mself\u001b[0m\u001b[1;33m.\u001b[0m\u001b[0mplugin_id\u001b[0m \u001b[1;32min\u001b[0m \u001b[0mImage\u001b[0m\u001b[1;33m.\u001b[0m\u001b[0mOPEN\u001b[0m\u001b[1;33m:\u001b[0m\u001b[1;33m\u001b[0m\u001b[0m\n",
      "\u001b[1;32m~\\Anaconda3\\lib\\site-packages\\imageio\\plugins\\pillow.py\u001b[0m in \u001b[0;36m_init_pillow\u001b[1;34m(self)\u001b[0m\n\u001b[0;32m     84\u001b[0m                 \u001b[0mself\u001b[0m\u001b[1;33m.\u001b[0m\u001b[0m_Image\u001b[0m \u001b[1;33m=\u001b[0m \u001b[0mImage\u001b[0m\u001b[1;33m\u001b[0m\u001b[0m\n\u001b[0;32m     85\u001b[0m             \u001b[1;32melif\u001b[0m \u001b[0mself\u001b[0m\u001b[1;33m.\u001b[0m\u001b[0m_Image\u001b[0m \u001b[1;32mis\u001b[0m \u001b[1;32mNone\u001b[0m\u001b[1;33m:\u001b[0m  \u001b[1;31m# pragma: no cover\u001b[0m\u001b[1;33m\u001b[0m\u001b[0m\n\u001b[1;32m---> 86\u001b[1;33m                 raise RuntimeError('Imageio Pillow plugin requires '\n\u001b[0m\u001b[0;32m     87\u001b[0m                                    'Pillow lib.')\n\u001b[0;32m     88\u001b[0m             \u001b[0mImage\u001b[0m \u001b[1;33m=\u001b[0m \u001b[0mself\u001b[0m\u001b[1;33m.\u001b[0m\u001b[0m_Image\u001b[0m\u001b[1;33m\u001b[0m\u001b[0m\n",
      "\u001b[1;31mRuntimeError\u001b[0m: Imageio Pillow plugin requires Pillow lib."
     ],
     "output_type": "error"
    }
   ],
   "source": [
    "import os\n",
    "\n",
    "os.environ[\"PATH\"] += os.pathsep + 'C:/Program Files (x86)/Graphviz2.38/bin/'\n",
    "\n",
    "show_tree(dt, features, 'dec_tree_01.png')"
   ]
  },
  {
   "cell_type": "code",
   "execution_count": null,
   "metadata": {},
   "outputs": [],
   "source": []
  },
  {
   "cell_type": "code",
   "execution_count": null,
   "metadata": {},
   "outputs": [],
   "source": []
  },
  {
   "cell_type": "code",
   "execution_count": null,
   "metadata": {},
   "outputs": [],
   "source": []
  }
 ],
 "metadata": {
  "kernelspec": {
   "display_name": "Python 3",
   "language": "python",
   "name": "python3"
  },
  "language_info": {
   "codemirror_mode": {
    "name": "ipython",
    "version": 3
   },
   "file_extension": ".py",
   "mimetype": "text/x-python",
   "name": "python",
   "nbconvert_exporter": "python",
   "pygments_lexer": "ipython3",
   "version": "3.6.4"
  }
 },
 "nbformat": 4,
 "nbformat_minor": 2
}
